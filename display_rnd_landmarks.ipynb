{
 "cells": [
  {
   "cell_type": "code",
   "execution_count": null,
   "metadata": {},
   "outputs": [],
   "source": [
    "import os\n",
    "import numpy as np\n",
    "import pandas as pd\n",
    "import matplotlib.pyplot as plt\n",
    "\n",
    "from openslide import OpenSlide\n",
    "\n",
    "pd.set_option('display.max_rows', 6)"
   ]
  },
  {
   "cell_type": "code",
   "execution_count": null,
   "metadata": {},
   "outputs": [],
   "source": [
    "path_wsis_base = '/mnt/ssd2tb/acrobat_wsi_val_anon_pyramidal_tiff/'\n",
    "path_df = '/mnt/chimeracknas2vol1_chimedata/users/phiwei/miccai_acrobat/val_test_dfs/df_points_val_public.csv'\n",
    "\n",
    "level = 2\n",
    "size = 600"
   ]
  },
  {
   "cell_type": "code",
   "execution_count": null,
   "metadata": {},
   "outputs": [],
   "source": [
    "df = pd.read_csv(path_df)\n",
    "df"
   ]
  },
  {
   "cell_type": "code",
   "execution_count": null,
   "metadata": {},
   "outputs": [],
   "source": [
    "for i in range(10):\n",
    "    \n",
    "    row = df.sample(1).squeeze().to_dict()\n",
    "\n",
    "    path_ihc = os.path.join(path_wsis_base, os.path.splitext(row['anon_filename_ihc'])[0] + '.tiff')\n",
    "    ihc_x = int(row['ihc_x']/(row['mpp_ihc_10X']) - size*2**level/2)\n",
    "    ihc_y = int(row['ihc_y']/(row['mpp_ihc_10X']) - size*2**level/2)\n",
    "    wsi_ihc = OpenSlide(path_ihc)\n",
    "    img_ihc = wsi_ihc.read_region((ihc_x, ihc_y), level, (size, size))    \n",
    "    \n",
    "    if (not pd.isnull(row['he_x'])) & (not pd.isnull(row['he_y'])):\n",
    "        path_he = os.path.join(path_wsis_base, os.path.splitext(row['anon_filename_he'])[0] + '.tiff')\n",
    "        he_x = int(row['he_x']/(row['mpp_he_10X']) - size*2**level/2)\n",
    "        he_y = int(row['he_y']/(row['mpp_he_10X']) - size*2**level/2)\n",
    "        wsi_he = OpenSlide(path_he)\n",
    "        img_he = wsi_he.read_region((he_x, he_y), level, (size, size))\n",
    "\n",
    "        fig, axs = plt.subplots(1,2, dpi=300)\n",
    "        ax = plt.subplot(121)\n",
    "        ax.imshow(img_ihc)\n",
    "        ax.scatter(int(size/2), int(size/2))\n",
    "        plt.axis('off')\n",
    "        ax = plt.subplot(122)\n",
    "        ax.imshow(img_he)\n",
    "        ax.scatter(int(size/2), int(size/2))\n",
    "        plt.axis('off')\n",
    "        plt.show()\n",
    "    else:\n",
    "        fig, axs = plt.subplots(1,2, dpi=300)\n",
    "        ax = plt.subplot(121)\n",
    "        ax.imshow(img_ihc)\n",
    "        ax.scatter(int(size/2), int(size/2))\n",
    "        plt.axis('off')\n",
    "        ax = plt.subplot(122)\n",
    "        ax.imshow(np.zeros(img_ihc.size))\n",
    "        plt.axis('off')\n",
    "        plt.show()"
   ]
  }
 ],
 "metadata": {
  "language_info": {
   "name": "python"
  },
  "orig_nbformat": 4
 },
 "nbformat": 4,
 "nbformat_minor": 2
}
